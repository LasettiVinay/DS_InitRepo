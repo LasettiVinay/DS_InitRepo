{
 "cells": [
  {
   "cell_type": "code",
   "execution_count": 5,
   "metadata": {},
   "outputs": [
    {
     "name": "stdout",
     "output_type": "stream",
     "text": [
      "/c/Users/ELASVIN/mylearnings/NLP\n"
     ]
    }
   ],
   "source": [
    "!pwd"
   ]
  },
  {
   "cell_type": "code",
   "execution_count": 4,
   "metadata": {},
   "outputs": [
    {
     "name": "stdout",
     "output_type": "stream",
     "text": [
      "Requirement already up-to-date: kaggle in c:\\users\\elasvin\\appdata\\local\\continuum\\anaconda3\\lib\\site-packages (1.5.3)\n",
      "Requirement already satisfied, skipping upgrade: urllib3<1.25,>=1.21.1 in c:\\users\\elasvin\\appdata\\local\\continuum\\anaconda3\\lib\\site-packages (from kaggle) (1.24.1)\n",
      "Requirement already satisfied, skipping upgrade: requests in c:\\users\\elasvin\\appdata\\local\\continuum\\anaconda3\\lib\\site-packages (from kaggle) (2.21.0)\n",
      "Requirement already satisfied, skipping upgrade: python-slugify in c:\\users\\elasvin\\appdata\\local\\continuum\\anaconda3\\lib\\site-packages (from kaggle) (3.0.2)\n",
      "Requirement already satisfied, skipping upgrade: python-dateutil in c:\\users\\elasvin\\appdata\\local\\continuum\\anaconda3\\lib\\site-packages (from kaggle) (2.8.0)\n",
      "Requirement already satisfied, skipping upgrade: certifi in c:\\users\\elasvin\\appdata\\local\\continuum\\anaconda3\\lib\\site-packages (from kaggle) (2019.3.9)\n",
      "Requirement already satisfied, skipping upgrade: six>=1.10 in c:\\users\\elasvin\\appdata\\local\\continuum\\anaconda3\\lib\\site-packages (from kaggle) (1.12.0)\n",
      "Requirement already satisfied, skipping upgrade: tqdm in c:\\users\\elasvin\\appdata\\local\\continuum\\anaconda3\\lib\\site-packages (from kaggle) (4.31.1)\n",
      "Requirement already satisfied, skipping upgrade: chardet<3.1.0,>=3.0.2 in c:\\users\\elasvin\\appdata\\local\\continuum\\anaconda3\\lib\\site-packages (from requests->kaggle) (3.0.4)\n",
      "Requirement already satisfied, skipping upgrade: idna<2.9,>=2.5 in c:\\users\\elasvin\\appdata\\local\\continuum\\anaconda3\\lib\\site-packages (from requests->kaggle) (2.8)\n",
      "Requirement already satisfied, skipping upgrade: text-unidecode==1.2 in c:\\users\\elasvin\\appdata\\local\\continuum\\anaconda3\\lib\\site-packages (from python-slugify->kaggle) (1.2)\n"
     ]
    }
   ],
   "source": [
    "!pip install kaggle --upgrade"
   ]
  },
  {
   "cell_type": "code",
   "execution_count": null,
   "metadata": {},
   "outputs": [],
   "source": []
  }
 ],
 "metadata": {
  "kernelspec": {
   "display_name": "Python [conda env:sknlp]",
   "language": "python",
   "name": "conda-env-sknlp-py"
  },
  "language_info": {
   "codemirror_mode": {
    "name": "ipython",
    "version": 3
   },
   "file_extension": ".py",
   "mimetype": "text/x-python",
   "name": "python",
   "nbconvert_exporter": "python",
   "pygments_lexer": "ipython3",
   "version": "3.7.3"
  }
 },
 "nbformat": 4,
 "nbformat_minor": 2
}
