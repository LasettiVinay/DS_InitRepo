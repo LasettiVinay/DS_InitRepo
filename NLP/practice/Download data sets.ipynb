{
 "cells": [
  {
   "cell_type": "code",
   "execution_count": 1,
   "metadata": {},
   "outputs": [
    {
     "name": "stdout",
     "output_type": "stream",
     "text": [
      "total 257\n",
      "-rw-r--r-- 1 elasvin 1049089 210080 Apr 17 08:04 spam-text-message-classification.zip\n",
      "drwxr-xr-x 1 elasvin 1049089      0 Apr 17 08:09 dataset\n",
      "drwxr-xr-x 1 elasvin 1049089      0 Apr 19 15:49 cache\n",
      "-rw-r--r-- 1 elasvin 1049089  41944 Apr 27 07:08 SpamOrHam.ipynb\n",
      "-rw-r--r-- 1 elasvin 1049089    854 Apr 27 07:21 Airline sentiment.ipynb\n",
      "-rw-r--r-- 1 elasvin 1049089     72 Apr 27 07:22 Untitled.ipynb\n"
     ]
    }
   ],
   "source": [
    "!ls -ltr"
   ]
  },
  {
   "cell_type": "code",
   "execution_count": 2,
   "metadata": {},
   "outputs": [
    {
     "name": "stdout",
     "output_type": "stream",
     "text": [
      "Downloading airline-sentiment.zip to C:\\Users\\ELASVIN\\mylearnings\\NLP\\practice1\n",
      "\n"
     ]
    },
    {
     "name": "stderr",
     "output_type": "stream",
     "text": [
      "\n",
      "  0%|          | 0.00/1.08M [00:00<?, ?B/s]\n",
      " 92%|#########2| 1.00M/1.08M [00:01<00:00, 565kB/s]\n",
      "100%|##########| 1.08M/1.08M [00:01<00:00, 582kB/s]\n"
     ]
    }
   ],
   "source": [
    "!kaggle datasets download -d welkin10/airline-sentiment"
   ]
  },
  {
   "cell_type": "code",
   "execution_count": 3,
   "metadata": {},
   "outputs": [
    {
     "name": "stdout",
     "output_type": "stream",
     "text": [
      "total 1369\n",
      "-rw-r--r-- 1 elasvin 1049089  210080 Apr 17 08:04 spam-text-message-classification.zip\n",
      "drwxr-xr-x 1 elasvin 1049089       0 Apr 17 08:09 dataset\n",
      "drwxr-xr-x 1 elasvin 1049089       0 Apr 19 15:49 cache\n",
      "-rw-r--r-- 1 elasvin 1049089   41944 Apr 27 07:08 SpamOrHam.ipynb\n",
      "-rw-r--r-- 1 elasvin 1049089     854 Apr 27 07:21 Airline sentiment.ipynb\n",
      "-rw-r--r-- 1 elasvin 1049089      72 Apr 27 07:22 Untitled.ipynb\n",
      "-rw-r--r-- 1 elasvin 1049089 1134950 Apr 27 07:24 airline-sentiment.zip\n"
     ]
    }
   ],
   "source": [
    "!ls -ltr"
   ]
  },
  {
   "cell_type": "code",
   "execution_count": null,
   "metadata": {},
   "outputs": [],
   "source": []
  }
 ],
 "metadata": {
  "kernelspec": {
   "display_name": "Python [conda env:sknlp]",
   "language": "python",
   "name": "conda-env-sknlp-py"
  },
  "language_info": {
   "codemirror_mode": {
    "name": "ipython",
    "version": 3
   },
   "file_extension": ".py",
   "mimetype": "text/x-python",
   "name": "python",
   "nbconvert_exporter": "python",
   "pygments_lexer": "ipython3",
   "version": "3.7.3"
  }
 },
 "nbformat": 4,
 "nbformat_minor": 2
}
