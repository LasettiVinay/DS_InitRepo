{
 "cells": [
  {
   "cell_type": "markdown",
   "metadata": {},
   "source": [
    "### Web Scraping"
   ]
  },
  {
   "cell_type": "markdown",
   "metadata": {},
   "source": [
    "#### import packages"
   ]
  },
  {
   "cell_type": "code",
   "execution_count": 2,
   "metadata": {},
   "outputs": [],
   "source": [
    "# import requests and beautifulSoup\n",
    "import requests\n",
    "from bs4 import BeautifulSoup"
   ]
  },
  {
   "cell_type": "code",
   "execution_count": 39,
   "metadata": {},
   "outputs": [],
   "source": [
    " # HTML String\n",
    "html_string = \"\"\"\n",
    "<!DOCTYPE html>\n",
    "<html>\n",
    "<head>\n",
    "<title>My Table from W3 SChools</title>\n",
    "<style>\n",
    "table {\n",
    "    font-family: arial, sans-serif;\n",
    "    border-collapse: collapse;\n",
    "    width: 100%;\n",
    "}\n",
    "\n",
    "td, th {\n",
    "    border: 1px solid #dddddd;\n",
    "    text-align: left;\n",
    "    padding: 8px;\n",
    "}\n",
    "\n",
    "tr:nth-child(even) {\n",
    "    background-color: #dddddd;\n",
    "}\n",
    "</style>\n",
    "</head>\n",
    "<body>\n",
    "\n",
    "<h2>HTML Table</h2>\n",
    "<p id=\"author\">Author: LASETTI VINAY</p>\n",
    "<p id=\"description\">This course will help you to perform various data science activities using python.</p>\n",
    "<table id=\"module\">\n",
    "  <tr>\n",
    "    <th>Company</th>\n",
    "    <th>Contact</th>\n",
    "    <th>Country</th>\n",
    "  </tr>\n",
    "  <tr>\n",
    "    <td>Alfreds Futterkiste</td>\n",
    "    <td>Maria Anders</td>\n",
    "    <td>Germany</td>\n",
    "  </tr>\n",
    "  <tr>\n",
    "    <td>Centro comercial Moctezuma</td>\n",
    "    <td>Francisco Chang</td>\n",
    "    <td>Mexico</td>\n",
    "  </tr>\n",
    "  <tr>\n",
    "    <td>Ernst Handel</td>\n",
    "    <td>Roland Mendel</td>\n",
    "    <td>Austria</td>\n",
    "  </tr>\n",
    "  <tr>\n",
    "    <td>Island Trading</td>\n",
    "    <td>Helen Bennett</td>\n",
    "    <td>UK</td>\n",
    "  </tr>\n",
    "  <tr>\n",
    "    <td>Laughing Bacchus Winecellars</td>\n",
    "    <td>Yoshi Tannamuri</td>\n",
    "    <td>Canada</td>\n",
    "  </tr>\n",
    "  <tr>\n",
    "    <td>Magazzini Alimentari Riuniti</td>\n",
    "    <td>Giovanni Rovelli</td>\n",
    "    <td>Italy</td>\n",
    "  </tr>\n",
    "</table>\n",
    "\n",
    "</body>\n",
    "</html>\n",
    "\"\"\""
   ]
  },
  {
   "cell_type": "code",
   "execution_count": 40,
   "metadata": {},
   "outputs": [
    {
     "data": {
      "text/html": [
       "\n",
       "<!DOCTYPE html>\n",
       "<html>\n",
       "<head>\n",
       "<title>My Table from W3 SChools</title>\n",
       "<style>\n",
       "table {\n",
       "   font-family: arial, sans-serif;\n",
       "   border-collapse: collapse;\n",
       "   width: 100%;\n",
       "}\n",
       "\n",
       "td, th {\n",
       "   border: 1px solid #dddddd;\n",
       "   text-align: left;\n",
       "   padding: 8px;\n",
       "}\n",
       "\n",
       "tr:nth-child(even) {\n",
       "   background-color: #dddddd;\n",
       "}\n",
       "</style>\n",
       "</head>\n",
       "<body>\n",
       "\n",
       "<h2>HTML Table</h2>\n",
       "<p id=\"author\">Author: LASETTI VINAY</p>\n",
       "<p id=\"description\">This course will help you to perform various data science activities using python.</p>\n",
       "<table id=\"module\">\n",
       " <tr>\n",
       "   <th>Company</th>\n",
       "   <th>Contact</th>\n",
       "   <th>Country</th>\n",
       " </tr>\n",
       " <tr>\n",
       "   <td>Alfreds Futterkiste</td>\n",
       "   <td>Maria Anders</td>\n",
       "   <td>Germany</td>\n",
       " </tr>\n",
       " <tr>\n",
       "   <td>Centro comercial Moctezuma</td>\n",
       "   <td>Francisco Chang</td>\n",
       "   <td>Mexico</td>\n",
       " </tr>\n",
       " <tr>\n",
       "   <td>Ernst Handel</td>\n",
       "   <td>Roland Mendel</td>\n",
       "   <td>Austria</td>\n",
       " </tr>\n",
       " <tr>\n",
       "   <td>Island Trading</td>\n",
       "   <td>Helen Bennett</td>\n",
       "   <td>UK</td>\n",
       " </tr>\n",
       " <tr>\n",
       "   <td>Laughing Bacchus Winecellars</td>\n",
       "   <td>Yoshi Tannamuri</td>\n",
       "   <td>Canada</td>\n",
       " </tr>\n",
       " <tr>\n",
       "   <td>Magazzini Alimentari Riuniti</td>\n",
       "   <td>Giovanni Rovelli</td>\n",
       "   <td>Italy</td>\n",
       " </tr>\n",
       "</table>\n",
       "\n",
       "</body>\n",
       "</html>\n"
      ],
      "text/plain": [
       "<IPython.core.display.HTML object>"
      ]
     },
     "metadata": {},
     "output_type": "display_data"
    }
   ],
   "source": [
    "# display HTML string in jupyter notebook\n",
    "from IPython.core.display import display, HTML\n",
    "display(HTML(html_string))"
   ]
  },
  {
   "cell_type": "code",
   "execution_count": 46,
   "metadata": {},
   "outputs": [],
   "source": [
    "# use beautifulSoup\n",
    "ps = BeautifulSoup(html_string)"
   ]
  },
  {
   "cell_type": "code",
   "execution_count": 47,
   "metadata": {},
   "outputs": [
    {
     "name": "stdout",
     "output_type": "stream",
     "text": [
      "<!DOCTYPE html>\n",
      "<html>\n",
      "<head>\n",
      "<title>My Table from W3 SChools</title>\n",
      "<style>\n",
      "table {\n",
      "   font-family: arial, sans-serif;\n",
      "   border-collapse: collapse;\n",
      "   width: 100%;\n",
      "}\n",
      "\n",
      "td, th {\n",
      "   border: 1px solid #dddddd;\n",
      "   text-align: left;\n",
      "   padding: 8px;\n",
      "}\n",
      "\n",
      "tr:nth-child(even) {\n",
      "   background-color: #dddddd;\n",
      "}\n",
      "</style>\n",
      "</head>\n",
      "<body>\n",
      "<h2>HTML Table</h2>\n",
      "<p id=\"author\">Author: LASETTI VINAY</p>\n",
      "<p id=\"description\">This course will help you to perform various data science activities using python.</p>\n",
      "<table id=\"module\">\n",
      "<tr>\n",
      "<th>Company</th>\n",
      "<th>Contact</th>\n",
      "<th>Country</th>\n",
      "</tr>\n",
      "<tr>\n",
      "<td>Alfreds Futterkiste</td>\n",
      "<td>Maria Anders</td>\n",
      "<td>Germany</td>\n",
      "</tr>\n",
      "<tr>\n",
      "<td>Centro comercial Moctezuma</td>\n",
      "<td>Francisco Chang</td>\n",
      "<td>Mexico</td>\n",
      "</tr>\n",
      "<tr>\n",
      "<td>Ernst Handel</td>\n",
      "<td>Roland Mendel</td>\n",
      "<td>Austria</td>\n",
      "</tr>\n",
      "<tr>\n",
      "<td>Island Trading</td>\n",
      "<td>Helen Bennett</td>\n",
      "<td>UK</td>\n",
      "</tr>\n",
      "<tr>\n",
      "<td>Laughing Bacchus Winecellars</td>\n",
      "<td>Yoshi Tannamuri</td>\n",
      "<td>Canada</td>\n",
      "</tr>\n",
      "<tr>\n",
      "<td>Magazzini Alimentari Riuniti</td>\n",
      "<td>Giovanni Rovelli</td>\n",
      "<td>Italy</td>\n",
      "</tr>\n",
      "</table>\n",
      "</body>\n",
      "</html>\n",
      "\n"
     ]
    }
   ],
   "source": [
    "# print ps\n",
    "print(ps)"
   ]
  },
  {
   "cell_type": "code",
   "execution_count": 48,
   "metadata": {},
   "outputs": [],
   "source": [
    "# extract body, use name parameter to select by tage name\n",
    "body = ps.find(name=\"body\")"
   ]
  },
  {
   "cell_type": "code",
   "execution_count": 49,
   "metadata": {},
   "outputs": [
    {
     "name": "stdout",
     "output_type": "stream",
     "text": [
      "<body>\n",
      "<h2>HTML Table</h2>\n",
      "<p id=\"author\">Author: LASETTI VINAY</p>\n",
      "<p id=\"description\">This course will help you to perform various data science activities using python.</p>\n",
      "<table id=\"module\">\n",
      "<tr>\n",
      "<th>Company</th>\n",
      "<th>Contact</th>\n",
      "<th>Country</th>\n",
      "</tr>\n",
      "<tr>\n",
      "<td>Alfreds Futterkiste</td>\n",
      "<td>Maria Anders</td>\n",
      "<td>Germany</td>\n",
      "</tr>\n",
      "<tr>\n",
      "<td>Centro comercial Moctezuma</td>\n",
      "<td>Francisco Chang</td>\n",
      "<td>Mexico</td>\n",
      "</tr>\n",
      "<tr>\n",
      "<td>Ernst Handel</td>\n",
      "<td>Roland Mendel</td>\n",
      "<td>Austria</td>\n",
      "</tr>\n",
      "<tr>\n",
      "<td>Island Trading</td>\n",
      "<td>Helen Bennett</td>\n",
      "<td>UK</td>\n",
      "</tr>\n",
      "<tr>\n",
      "<td>Laughing Bacchus Winecellars</td>\n",
      "<td>Yoshi Tannamuri</td>\n",
      "<td>Canada</td>\n",
      "</tr>\n",
      "<tr>\n",
      "<td>Magazzini Alimentari Riuniti</td>\n",
      "<td>Giovanni Rovelli</td>\n",
      "<td>Italy</td>\n",
      "</tr>\n",
      "</table>\n",
      "</body>\n"
     ]
    }
   ],
   "source": [
    "print(body)"
   ]
  },
  {
   "cell_type": "code",
   "execution_count": 42,
   "metadata": {},
   "outputs": [
    {
     "name": "stdout",
     "output_type": "stream",
     "text": [
      "HTML Table\n"
     ]
    }
   ],
   "source": [
    "# use text attribute to get the content of the tag\n",
    "print(body.find(name=\"h2\").text)"
   ]
  },
  {
   "cell_type": "code",
   "execution_count": 17,
   "metadata": {},
   "outputs": [
    {
     "name": "stdout",
     "output_type": "stream",
     "text": [
      "<p>Author: LASETTI VINAY</p>\n"
     ]
    }
   ],
   "source": [
    "# get first p element\n",
    "print(body.find(name=\"p\"))"
   ]
  },
  {
   "cell_type": "code",
   "execution_count": 18,
   "metadata": {},
   "outputs": [
    {
     "name": "stdout",
     "output_type": "stream",
     "text": [
      "[<p>Author: LASETTI VINAY</p>, <p>This course will help you to perform various data science activities using python.</p>]\n"
     ]
    }
   ],
   "source": [
    "# get all p elements\n",
    "print(body.findAll(name=\"p\"))"
   ]
  },
  {
   "cell_type": "code",
   "execution_count": 24,
   "metadata": {},
   "outputs": [
    {
     "name": "stdout",
     "output_type": "stream",
     "text": [
      "Author: LASETTI VINAY\n",
      "This course will help you to perform various data science activities using python.\n"
     ]
    }
   ],
   "source": [
    "# loop through each p element\n",
    "for p in body.findAll(name=\"p\"):\n",
    "    print(p.text)"
   ]
  },
  {
   "cell_type": "code",
   "execution_count": 29,
   "metadata": {},
   "outputs": [
    {
     "name": "stdout",
     "output_type": "stream",
     "text": [
      "Author: LASETTI VINAY\n"
     ]
    }
   ],
   "source": [
    "# add attributes in the selection process\n",
    "print(body.find(name=\"p\", attrs={\"id\":\"author\"}).text)"
   ]
  },
  {
   "cell_type": "code",
   "execution_count": 38,
   "metadata": {},
   "outputs": [
    {
     "name": "stdout",
     "output_type": "stream",
     "text": [
      "This course will help you to perform various data science activities using python.\n"
     ]
    }
   ],
   "source": [
    "# print description\n",
    "print(body.find(name=\"p\", attrs={\"id\":\"description\"}).text)"
   ]
  },
  {
   "cell_type": "code",
   "execution_count": 58,
   "metadata": {},
   "outputs": [
    {
     "name": "stdout",
     "output_type": "stream",
     "text": [
      "Alfreds Futterkiste,      Maria Anders,      Germany\n",
      "Centro comercial Moctezuma,      Francisco Chang,      Mexico\n",
      "Ernst Handel,      Roland Mendel,      Austria\n",
      "Island Trading,      Helen Bennett,      UK\n",
      "Laughing Bacchus Winecellars,      Yoshi Tannamuri,      Canada\n",
      "Magazzini Alimentari Riuniti,      Giovanni Rovelli,      Italy\n"
     ]
    }
   ],
   "source": [
    "# body\n",
    "body = ps.find(name=\"body\")\n",
    "#module table\n",
    "module_table = body.find(name=\"table\", attrs={\"id\":\"module\"})\n",
    "#iterate through each row in table\n",
    "for row in module_table.findAll(name=\"tr\")[1:]:\n",
    "    company = row.findAll(name=\"td\")[0].text\n",
    "    contact = row.findAll(name=\"td\")[1].text\n",
    "    country = row.findAll(name=\"td\")[2].text\n",
    "    print(company+\",     \", contact+\",     \", country)"
   ]
  },
  {
   "cell_type": "code",
   "execution_count": null,
   "metadata": {},
   "outputs": [],
   "source": []
  }
 ],
 "metadata": {
  "kernelspec": {
   "display_name": "Python 3",
   "language": "python",
   "name": "python3"
  },
  "language_info": {
   "codemirror_mode": {
    "name": "ipython",
    "version": 3
   },
   "file_extension": ".py",
   "mimetype": "text/x-python",
   "name": "python",
   "nbconvert_exporter": "python",
   "pygments_lexer": "ipython3",
   "version": "3.7.0"
  }
 },
 "nbformat": 4,
 "nbformat_minor": 2
}
