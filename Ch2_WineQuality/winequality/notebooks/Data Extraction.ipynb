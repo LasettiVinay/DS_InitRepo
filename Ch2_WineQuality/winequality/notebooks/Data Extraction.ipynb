{
 "cells": [
  {
   "cell_type": "code",
   "execution_count": 1,
   "metadata": {},
   "outputs": [],
   "source": [
    "from dotenv import load_dotenv, find_dotenv\n",
    "import os\n"
   ]
  },
  {
   "cell_type": "code",
   "execution_count": 6,
   "metadata": {},
   "outputs": [
    {
     "name": "stdout",
     "output_type": "stream",
     "text": [
      "C:\\Users\\ELASVIN\\mylearnings\\Ch2_WineQuality\\winequality\\.env\n"
     ]
    },
    {
     "data": {
      "text/plain": [
       "True"
      ]
     },
     "execution_count": 6,
     "metadata": {},
     "output_type": "execute_result"
    }
   ],
   "source": [
    "# find .env automatically by walking up directories until it's found\n",
    "dotenv_path = find_dotenv()\n",
    "print(dotenv_path)\n",
    "# load up the entries as enviornment variables\n",
    "load_dotenv(dotenv_path)"
   ]
  },
  {
   "cell_type": "code",
   "execution_count": 7,
   "metadata": {},
   "outputs": [
    {
     "name": "stdout",
     "output_type": "stream",
     "text": [
      "vinay\n"
     ]
    }
   ],
   "source": [
    "KAGGLE_USERNAME = os.environ.get(\"KAGGLE_USERNAME\")\n",
    "KAGGLE_PASSWORD = os.environ.get(\"KAGGLE_PASSWORD\")\n",
    "KAGGLE = os.environ.get(\"KAGGLE\")"
   ]
  },
  {
   "cell_type": "code",
   "execution_count": 10,
   "metadata": {},
   "outputs": [],
   "source": [
    "import requests\n",
    "from requests import session\n",
    "import kaggle"
   ]
  },
  {
   "cell_type": "code",
   "execution_count": 11,
   "metadata": {},
   "outputs": [],
   "source": [
    "# Payload for post\n",
    "payload = {\n",
    "    'action': 'login',\n",
    "    'username' : os.environ.get(\"KAGGLE_USERNAME\"),\n",
    "    'password' : os.environ.get(\"KAGGLE_PASSWORD\")\n",
    "}\n",
    "\n",
    "def extract_data(url, file_path):\n",
    "    '''\n",
    "    extract data from kaggle\n",
    "    '''\n",
    "    # setup session\n",
    "    with session() as c:\n",
    "        # post request\n",
    "        c.post(\"https://www.kaggle.com/account/login\", data=payload)\n",
    "        with open(file_path, 'w') as handle:\n",
    "            # get request\n",
    "            response = c.get(url, stream=True)\n",
    "            for block in response.iter_content(1024):\n",
    "                handle.write(block)"
   ]
  },
  {
   "cell_type": "code",
   "execution_count": 20,
   "metadata": {},
   "outputs": [
    {
     "ename": "TypeError",
     "evalue": "write() argument must be str, not bytes",
     "output_type": "error",
     "traceback": [
      "\u001b[1;31m---------------------------------------------------------------------------\u001b[0m",
      "\u001b[1;31mTypeError\u001b[0m                                 Traceback (most recent call last)",
      "\u001b[1;32m<ipython-input-20-b94f78ea7621>\u001b[0m in \u001b[0;36m<module>\u001b[1;34m()\u001b[0m\n\u001b[0;32m      5\u001b[0m \u001b[1;33m\u001b[0m\u001b[0m\n\u001b[0;32m      6\u001b[0m \u001b[1;31m# extract data\u001b[0m\u001b[1;33m\u001b[0m\u001b[1;33m\u001b[0m\u001b[0m\n\u001b[1;32m----> 7\u001b[1;33m \u001b[0mextract_data\u001b[0m\u001b[1;33m(\u001b[0m\u001b[0murl\u001b[0m\u001b[1;33m,\u001b[0m \u001b[0mwq_dataset_path\u001b[0m\u001b[1;33m)\u001b[0m\u001b[1;33m\u001b[0m\u001b[0m\n\u001b[0m",
      "\u001b[1;32m<ipython-input-11-60ed6be07c5d>\u001b[0m in \u001b[0;36mextract_data\u001b[1;34m(url, file_path)\u001b[0m\n\u001b[0;32m     18\u001b[0m             \u001b[0mresponse\u001b[0m \u001b[1;33m=\u001b[0m \u001b[0mc\u001b[0m\u001b[1;33m.\u001b[0m\u001b[0mget\u001b[0m\u001b[1;33m(\u001b[0m\u001b[0murl\u001b[0m\u001b[1;33m,\u001b[0m \u001b[0mstream\u001b[0m\u001b[1;33m=\u001b[0m\u001b[1;32mTrue\u001b[0m\u001b[1;33m)\u001b[0m\u001b[1;33m\u001b[0m\u001b[0m\n\u001b[0;32m     19\u001b[0m             \u001b[1;32mfor\u001b[0m \u001b[0mblock\u001b[0m \u001b[1;32min\u001b[0m \u001b[0mresponse\u001b[0m\u001b[1;33m.\u001b[0m\u001b[0miter_content\u001b[0m\u001b[1;33m(\u001b[0m\u001b[1;36m1024\u001b[0m\u001b[1;33m)\u001b[0m\u001b[1;33m:\u001b[0m\u001b[1;33m\u001b[0m\u001b[0m\n\u001b[1;32m---> 20\u001b[1;33m                 \u001b[0mhandle\u001b[0m\u001b[1;33m.\u001b[0m\u001b[0mwrite\u001b[0m\u001b[1;33m(\u001b[0m\u001b[0mblock\u001b[0m\u001b[1;33m)\u001b[0m\u001b[1;33m\u001b[0m\u001b[0m\n\u001b[0m",
      "\u001b[1;31mTypeError\u001b[0m: write() argument must be str, not bytes"
     ]
    }
   ],
   "source": [
    "raw_data_path = os.path.join(os.path.pardir, 'data', 'raw')\n",
    "wq_dataset_path = os.path.join(raw_data_path, 'wq_dataset.csv')\n",
    "\n",
    "url = 'https://www.kaggle.com/c/6000/download-all'\n",
    "\n",
    "# extract data\n",
    "extract_data(url, wq_dataset_path)"
   ]
  },
  {
   "cell_type": "code",
   "execution_count": 23,
   "metadata": {},
   "outputs": [
    {
     "name": "stdout",
     "output_type": "stream",
     "text": [
      "ref                                            deadline             category            reward  teamCount  userHasEntered  \n",
      "---------------------------------------------  -------------------  ---------------  ---------  ---------  --------------  \n",
      "digit-recognizer                               2030-01-01 00:00:00  Getting Started  Knowledge       2682           False  \n",
      "titanic                                        2030-01-01 00:00:00  Getting Started  Knowledge      10167            True  \n",
      "house-prices-advanced-regression-techniques    2030-01-01 00:00:00  Getting Started  Knowledge       4299           False  \n",
      "imagenet-object-localization-challenge         2029-12-31 07:00:00  Research         Knowledge         32           False  \n",
      "competitive-data-science-predict-future-sales  2019-12-31 23:59:00  Playground           Kudos       2243           False  \n",
      "two-sigma-financial-news                       2019-07-15 23:59:00  Featured          $100,000       2902           False  \n",
      "LANL-Earthquake-Prediction                     2019-06-03 23:59:00  Research           $50,000        779           False  \n",
      "histopathologic-cancer-detection               2019-03-30 23:59:00  Playground       Knowledge        516           False  \n",
      "petfinder-adoption-prediction                  2019-03-28 23:59:00  Featured           $25,000        863           False  \n",
      "vsb-power-line-fault-detection                 2019-03-21 23:59:00  Featured           $25,000        688           False  \n",
      "microsoft-malware-prediction                   2019-03-13 23:59:00  Research           $25,000       1365           False  \n",
      "humpback-whale-identification                  2019-02-28 23:59:00  Featured           $25,000       1595           False  \n",
      "elo-merchant-category-recommendation           2019-02-26 23:59:00  Featured           $50,000       3252           False  \n",
      "ga-customer-revenue-prediction                 2019-02-15 23:59:00  Featured           $45,000       1104           False  \n",
      "reducing-commercial-aviation-fatalities        2019-02-12 23:59:00  Playground            Swag        112           False  \n",
      "quora-insincere-questions-classification       2019-02-05 23:59:00  Featured           $25,000       3900           False  \n",
      "pubg-finish-placement-prediction               2019-01-30 23:59:00  Playground            Swag       1534           False  \n",
      "20-newsgroups-ciphertext-challenge             2019-01-16 23:59:00  Playground            Swag        142           False  \n",
      "human-protein-atlas-image-classification       2019-01-10 23:59:00  Featured           $37,000       2172           False  \n",
      "traveling-santa-2018-prime-paths               2019-01-10 23:59:00  Featured           $25,000       1874           False  \n"
     ]
    }
   ],
   "source": [
    "!kaggle competitions list"
   ]
  },
  {
   "cell_type": "code",
   "execution_count": 32,
   "metadata": {},
   "outputs": [],
   "source": [
    "import kaggle"
   ]
  },
  {
   "cell_type": "code",
   "execution_count": 37,
   "metadata": {},
   "outputs": [],
   "source": [
    "KAGGLE_USERNAME = os.environ.get(\"KAGGLE_USERNAME\")\n",
    "KAGGLE_PASSWORD = os.environ.get(\"KAGGLE_PASSWORD\")\n",
    "KAGGLE_KEY='d37047f4cbb81cffbd9ada0c9b902ad4'\n",
    "#KAGGLE = os.environ.get(\"KAGGLE\")"
   ]
  },
  {
   "cell_type": "code",
   "execution_count": 41,
   "metadata": {},
   "outputs": [
    {
     "data": {
      "text/plain": [
       "'d37047f4cbb81cffbd9ada0c9b902ad4'"
      ]
     },
     "execution_count": 41,
     "metadata": {},
     "output_type": "execute_result"
    }
   ],
   "source": [
    "KAGGLE_USERNAME\n",
    "KAGGLE_KEY"
   ]
  },
  {
   "cell_type": "code",
   "execution_count": 43,
   "metadata": {},
   "outputs": [
    {
     "name": "stdout",
     "output_type": "stream",
     "text": [
      "Downloading winequality.names to C:\\Users\\ELASVIN\\mylearnings\\Ch2_WineQuality\\winequality\\notebooks\n",
      "\n",
      "Downloading winequality-data.csv to C:\\Users\\ELASVIN\\mylearnings\\Ch2_WineQuality\\winequality\\notebooks\n",
      "\n",
      "Downloading winequality-solution-input.csv to C:\\Users\\ELASVIN\\mylearnings\\Ch2_WineQuality\\winequality\\notebooks\n",
      "\n",
      "Downloading winequality-submission-example.csv to C:\\Users\\ELASVIN\\mylearnings\\Ch2_WineQuality\\winequality\\notebooks\n",
      "\n"
     ]
    },
    {
     "name": "stderr",
     "output_type": "stream",
     "text": [
      "\n",
      "  0%|          | 0.00/3.23k [00:00<?, ?B/s]\n",
      "100%|##########| 3.23k/3.23k [00:00<00:00, 1.65MB/s]\n",
      "\n",
      "  0%|          | 0.00/226k [00:00<?, ?B/s]\n",
      "100%|##########| 226k/226k [00:00<00:00, 775kB/s]\n",
      "\n",
      "  0%|          | 0.00/53.6k [00:00<?, ?B/s]\n",
      "100%|##########| 53.6k/53.6k [00:00<00:00, 4.22MB/s]\n",
      "\n",
      "  0%|          | 0.00/5.65k [00:00<?, ?B/s]\n",
      "100%|##########| 5.65k/5.65k [00:00<00:00, 2.89MB/s]\n"
     ]
    }
   ],
   "source": [
    "!kaggle competitions download -c uci-wine-quality-dataset"
   ]
  },
  {
   "cell_type": "code",
   "execution_count": 44,
   "metadata": {},
   "outputs": [
    {
     "name": "stdout",
     "output_type": "stream",
     "text": [
      "/c/Users/ELASVIN/mylearnings/Ch2_WineQuality/winequality/notebooks\n"
     ]
    }
   ],
   "source": [
    "!pwd"
   ]
  },
  {
   "cell_type": "code",
   "execution_count": 30,
   "metadata": {},
   "outputs": [
    {
     "name": "stdout",
     "output_type": "stream",
     "text": [
      "401 - Unauthorized\n"
     ]
    }
   ],
   "source": [
    "!kaggle datasets list -s titanic"
   ]
  },
  {
   "cell_type": "code",
   "execution_count": null,
   "metadata": {},
   "outputs": [],
   "source": []
  }
 ],
 "metadata": {
  "kernelspec": {
   "display_name": "Python 3",
   "language": "python",
   "name": "python3"
  },
  "language_info": {
   "codemirror_mode": {
    "name": "ipython",
    "version": 3
   },
   "file_extension": ".py",
   "mimetype": "text/x-python",
   "name": "python",
   "nbconvert_exporter": "python",
   "pygments_lexer": "ipython3",
   "version": "3.7.0"
  }
 },
 "nbformat": 4,
 "nbformat_minor": 2
}
